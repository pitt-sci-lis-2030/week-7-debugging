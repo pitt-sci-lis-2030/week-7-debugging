{
 "cells": [
  {
   "cell_type": "markdown",
   "metadata": {},
   "source": [
    "### Error Handling"
   ]
  },
  {
   "cell_type": "markdown",
   "metadata": {},
   "source": [
    "**Q1** Python has built-in capabilities, which can produce an error. If an error occurs while a program is running, it's called an *exception*. If an exception occurs, the type of exception is shown. Exceptions need to be *handled* or the program will crash. To handle exceptions, the `try-catch` block is used. Click [here](https://www.tutorialspoint.com/python/python_exceptions.htm) to review Python Exception Handling."
   ]
  },
  {
   "cell_type": "markdown",
   "metadata": {},
   "source": [
    "**Consider the following program:**\n",
    "\n",
    "\n",
    "```python\n",
    "try:  \n",
    "    a = 1234567\n",
    "    b = \"HelloWorld\"\n",
    "    assert a == b\n",
    "except AssertionError:  \n",
    "        print (\"Assertion Exception Raised.\")\n",
    "else:  \n",
    "    print (\"Success, no error!\")\n",
    "```\n",
    "\n",
    "Please write your answer in markdown format:\n",
    "* Describe line by line how this program is executed.\n",
    "* Explain the output you get. "
   ]
  },
  {
   "cell_type": "code",
   "execution_count": null,
   "metadata": {},
   "outputs": [],
   "source": []
  },
  {
   "cell_type": "markdown",
   "metadata": {},
   "source": [
    "**Answer Key**\n",
    "\n",
    "1. explain the main components of exception handling：\n",
    " \n",
    " * Try: It will run the code block in which you expect an error to occur.\n",
    " * Except: Here, you will define the type of exception you expect in the try block (built-in or custom).\n",
    " * Else: If there isn't any exception, then this block of code will be executed (consider this as a remedy or a fallback option if you expect a part of your script to produce an exception).\n",
    " \n",
    "2. expalin why the output is \"Assertation Exception Raised\". \n",
    "\n",
    "3. better include what is assertion error. \n"
   ]
  },
  {
   "cell_type": "markdown",
   "metadata": {},
   "source": [
    "**Q2.**  Let's review the  **Python Functions** . Please click [here](https://www.w3schools.com/python/python_functions.asp) for some review about functions.\n",
    "\n",
    "Consider the program below and complete the following tasks:\n",
    "1. Run the code cell below and enter two strings in the input fields.\n",
    "2. Observe the output and maybe run it again with other strings.\n",
    "2. Add Python comments at the end of each line describing the code. Specifically add comments to:\n",
    "    * Lines that name the function, what it does, and what it returns\n",
    "    * Lines that call the function\n",
    "\n",
    "Note: Sometimes the `input` fields get borked in Jupyter. If you see a `[*]` next to the code cell but nothing is happening click the \"Interrupt Kernel\" button (the square button next to the run cell/triangle) button.\n"
   ]
  },
  {
   "cell_type": "code",
   "execution_count": null,
   "metadata": {},
   "outputs": [],
   "source": [
    "def stringlen(myString):\n",
    "    myString = myString.strip()\n",
    "    return len(myString)\n",
    "\n",
    "myString1 = input(\"please input your string 1: \")\n",
    "myString2 = input(\"please input your string 2: \")\n",
    "\n",
    "lenString1 = stringlen(myString1)\n",
    "lenString2 = stringlen(myString2)\n",
    "\n",
    "print(\"Your String1 is \"+myString1)\n",
    "print(\"Your String2 is \"+myString2)\n",
    "\n",
    "if lenString1 > lenString2:\n",
    "    print(\"String1 is greater string2\")\n",
    "elif lenString1 < lenString2:\n",
    "    print(\"String2 is greater string1\")\n",
    "else:\n",
    "    print(\"They are equal\")\n",
    "\n"
   ]
  },
  {
   "cell_type": "code",
   "execution_count": null,
   "metadata": {},
   "outputs": [],
   "source": [
    "# answer key\n",
    "def stringLen(myString): # define a function named stringLen\n",
    "    myString = myString.strip() # Remove spaces at the beginning and at the end of the string\n",
    "    return len(myString) # get the value of the string length\n",
    "\n",
    "myString1 = input(\"please input your string 1: \") # let students to input a string \n",
    "myString2 = input(\"please input your string 2: \") # let students to input another string \n",
    "\n",
    "lenString1 = stringLen(myString1) # call the function\n",
    "lenString2 = stringLen(myString2) # call the function\n",
    "\n",
    "print(\"Your String1 is \"+myString1) # print the string that students input\n",
    "print(\"Your String2 is \"+myString2) # print the another string that students input\n",
    "\n",
    "if lenString1 > lenString2: # comparing the length of the two input strings. The first condition is when the lenth of string 1 greater than string 2,\n",
    "    print(\"String1 is greater string2\") # print\n",
    "elif lenString1 < lenString2: # the second condition is when the length of string 1 less than string 2\n",
    "    print(\"String2 is greater string1\") # print\n",
    "else: # the other condition\n",
    "    print(\"They are equal\") # print\n"
   ]
  }
 ],
 "metadata": {
  "kernelspec": {
   "display_name": "Python 3",
   "language": "python",
   "name": "python3"
  },
  "language_info": {
   "codemirror_mode": {
    "name": "ipython",
    "version": 3
   },
   "file_extension": ".py",
   "mimetype": "text/x-python",
   "name": "python",
   "nbconvert_exporter": "python",
   "pygments_lexer": "ipython3",
   "version": "3.8.5"
  }
 },
 "nbformat": 4,
 "nbformat_minor": 4
}
