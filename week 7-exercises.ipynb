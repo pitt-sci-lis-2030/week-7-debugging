{
 "cells": [
  {
   "cell_type": "markdown",
   "metadata": {},
   "source": [
    "### Error Handling"
   ]
  },
  {
   "cell_type": "markdown",
   "metadata": {},
   "source": [
    "**Q1** Python has built-in capabilities, which can produce an error. If an error occurs while a program is running, it's called an *exception*. If an exception occurs, the type of exception is shown. Exceptions need to be *handled* or the program will crash. To handle exceptions, the `try-catch` block is used. Click [here](https://www.tutorialspoint.com/python/python_exceptions.htm) to review Python Exception Handling."
   ]
  },
  {
   "cell_type": "markdown",
   "metadata": {},
   "source": [
    "**Consider the following program:**\n",
    "\n",
    "\n",
    "```python\n",
    "try:  \n",
    "    a = 1234567\n",
    "    b = \"HelloWorld\"\n",
    "    assert a == b\n",
    "except AssertionError:  \n",
    "        print (\"Assertion Exception Raised.\")\n",
    "else:  \n",
    "    print (\"Success, no error!\")\n",
    "```\n",
    "\n",
    "Please write your answer in markdown format:\n",
    "* Describe line by line how this program is executed.\n",
    "* Explain the output you get. "
   ]
  },
  {
   "cell_type": "code",
   "execution_count": null,
   "metadata": {},
   "outputs": [],
   "source": []
  },
  {
   "cell_type": "markdown",
   "metadata": {},
   "source": [
    "**Q2.**  Let's review the  **Python Functions** . Please click [here](https://www.w3schools.com/python/python_functions.asp) for some review about functions.\n",
    "\n",
    "Consider the program below and complete the following tasks:\n",
    "1. Run the code cell below and enter two strings in the input fields.\n",
    "2. Observe the output and maybe run it again with other strings.\n",
    "2. Add Python comments at the end of each line describing the code. Specifically add comments to:\n",
    "    * Lines that name the function, what it does, and what it returns\n",
    "    * Lines that call the function\n",
    "\n",
    "Note: Sometimes the `input` fields get borked in Jupyter. If you see a `[*]` next to the code cell but nothing is happening click the \"Interrupt Kernel\" button (the square button next to the run cell/triangle) button.\n"
   ]
  },
  {
   "cell_type": "code",
   "execution_count": null,
   "metadata": {},
   "outputs": [],
   "source": [
    "def stringlen(myString):\n",
    "    myString = myString.strip()\n",
    "    return len(myString)\n",
    "\n",
    "myString1 = input(\"please input your string 1: \")\n",
    "myString2 = input(\"please input your string 2: \")\n",
    "\n",
    "lenString1 = stringlen(myString1)\n",
    "lenString2 = stringlen(myString2)\n",
    "\n",
    "print(\"Your String1 is \"+myString1)\n",
    "print(\"Your String2 is \"+myString2)\n",
    "\n",
    "if lenString1 > lenString2:\n",
    "    print(\"String1 is greater string2\")\n",
    "elif lenString1 < lenString2:\n",
    "    print(\"String2 is greater string1\")\n",
    "else:\n",
    "    print(\"They are equal\")\n",
    "\n"
   ]
  },
  {
   "cell_type": "code",
   "execution_count": null,
   "metadata": {},
   "outputs": [],
   "source": []
  }
 ],
 "metadata": {
  "kernelspec": {
   "display_name": "Python 3",
   "language": "python",
   "name": "python3"
  },
  "language_info": {
   "codemirror_mode": {
    "name": "ipython",
    "version": 3
   },
   "file_extension": ".py",
   "mimetype": "text/x-python",
   "name": "python",
   "nbconvert_exporter": "python",
   "pygments_lexer": "ipython3",
   "version": "3.8.3"
  }
 },
 "nbformat": 4,
 "nbformat_minor": 4
}
