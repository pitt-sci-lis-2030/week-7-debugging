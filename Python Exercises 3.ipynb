{
 "cells": [
  {
   "cell_type": "markdown",
   "id": "d1bb9efa-a948-4341-8568-363953447045",
   "metadata": {},
   "source": [
    "# Exercise Three\n",
    "\n",
    "In this exercise you will practice the following:\n",
    "\n",
    "1. Collections: strings, lists, dictionaries\n",
    "2. Working with files on your computer\n",
    "3. Different file types: text files, structured JSON data\n",
    "4. Commenting and debugging code\n"
   ]
  },
  {
   "cell_type": "markdown",
   "id": "6cf9d280-3e70-407a-901c-265b78036bed",
   "metadata": {},
   "source": [
    "## 1. Fix the Code\n",
    "\n",
    "Below are the lines of a program I wrote to add some things to a list of my favorite foods, sort the list, and then print them out in alphabetical order. The problem is that, when I was uploading this program to Canvas, my internet stopped working and my program's lines got all mixed up.\n",
    "\n",
    "![Internet Broken Gif](https://media0.giphy.com/media/xThuWnOaQQ0jR91ZGU/giphy.gif?cid=ecf05e4748k6g7jucyc769s46syxvzprk6zzg90u0dtairda&rid=giphy.gif&ct=g)\n",
    "\n",
    "### 1.1 Rearranging Code\n",
    "\n",
    "Your task is this: Copy the code cell below and then rearrange the lines so the program sorts and then prints the elements in my list of foods. When you've got the order all sorted out, put it in the code cell below. And thanks for your help!\n",
    "\n",
    "**Hint:** The printed list should be in alphabetical order! "
   ]
  },
  {
   "cell_type": "code",
   "execution_count": null,
   "id": "65d8189c-79d7-4393-b5d9-c74165ed97fe",
   "metadata": {},
   "outputs": [],
   "source": [
    "my_fave_foods.sort()\n",
    "for food in my_fave_foods:\n",
    "my_fave_foods.append(\"asiago cheese\")\n",
    "my_fave_foods = [\"serrano peppers\", \"bananas\", \"apple pie\", \"veal\", \"smoked brisket\"]\n",
    "    print(food)"
   ]
  },
  {
   "cell_type": "code",
   "execution_count": null,
   "id": "80cd0eba-4e75-46ca-9e68-f095a71cc0af",
   "metadata": {},
   "outputs": [],
   "source": [
    "# Put your rearranged code here\n",
    "\n"
   ]
  },
  {
   "cell_type": "markdown",
   "id": "997509e4-877c-4260-b489-afe5a1d9672f",
   "metadata": {},
   "source": [
    "### 1.2 Comment the Code\n",
    "\n",
    "Copy the code from your solution to question 1.1 above into the cell below. Go through each line of your unscrambled code and add a new line of Python code comments describing the behavior of each line in plain english. "
   ]
  },
  {
   "cell_type": "code",
   "execution_count": null,
   "id": "197a254c-bd41-4c7c-859f-eec1b43201bd",
   "metadata": {},
   "outputs": [],
   "source": [
    "# Put your commented code here\n",
    "\n"
   ]
  },
  {
   "cell_type": "markdown",
   "id": "759c93fd-08cb-413a-b5c5-b6a91fc51fe5",
   "metadata": {},
   "source": [
    "## 2. Lists, Dictionaries, and Soliloquies \n",
    "\n",
    "Now that you're an expert in sorting lists of food, let's get a little bit more literary. The file `richard3.txt` contains the text of Richard's opening soliloquy from Shakespeare's play *Richard III*.\n",
    "\n",
    "![Richard the 3rd gif](https://media3.giphy.com/media/Yf8iKHNyJvTIA/giphy.gif?cid=790b761151bf21d4815b98348fd87844fd196fc365e14498&rid=giphy.gif&ct=g)\n",
    "\n",
    "### 2.1 Counting Lines\n",
    "\n",
    "Write a program that reads in the soliloquy from the file and counts the number of lines in the file."
   ]
  },
  {
   "cell_type": "code",
   "execution_count": null,
   "id": "98988d40-7a56-44c6-86bd-05e00b8bfb3c",
   "metadata": {},
   "outputs": [],
   "source": [
    "# your code here\n",
    "\n"
   ]
  },
  {
   "cell_type": "markdown",
   "id": "ae2a0f89-78a9-413d-a5bc-df8e30e2f24f",
   "metadata": {},
   "source": [
    "### 2.1 List of Words\n",
    "\n",
    "Now, using the split function, split each line into a list of words. Create a list to contain all of your words. Going word by word, check if the word is already in the list. If not, add it.\n",
    "\n",
    "Once you've gone through the whole file, sort the list of words in alphabetical order, and print it out."
   ]
  },
  {
   "cell_type": "code",
   "execution_count": null,
   "id": "5ff0e33d-5c56-400a-aebf-db69f9d8fdce",
   "metadata": {},
   "outputs": [],
   "source": [
    "# your code here\n",
    "\n"
   ]
  },
  {
   "cell_type": "markdown",
   "id": "96ce3d7e-3629-4fce-9b38-69190d1b0c37",
   "metadata": {},
   "source": [
    "### 2.3 Dictionary of Words\n",
    "\n",
    "In the previous part, you just discarded words that were duplicates, but what if you wanted to count them?\n",
    "\n",
    "You're going to read through `richard3.txt` again, but this time use a dictionary. Iterate through the lines in the file and, for each word, if this is its first occurence, add the word as a key to the dictionary and the number 1 as a value. If the word exists in the dictionary, add 1 to its value.\n",
    "\n",
    "Then, print out your word-frequency dictionary."
   ]
  },
  {
   "cell_type": "code",
   "execution_count": null,
   "id": "3eba5b98-dfd1-48df-876c-85c7434fa0b8",
   "metadata": {},
   "outputs": [],
   "source": [
    "# your code here\n",
    "\n"
   ]
  },
  {
   "cell_type": "markdown",
   "id": "b48c9fb3-8676-4455-8e86-fecc4f804265",
   "metadata": {
    "tags": []
   },
   "source": [
    "## 3. Guess the function and describe the outcome\n",
    "\n",
    "Look at the code written below. Use computational thinking to walk through the code and determine what it outputs. Don't execute this code in a code cell, execute it in your brain!\n",
    "\n",
    "```\n",
    "def apples():\n",
    "    print(\"Foo\")\n",
    "\n",
    "def bananas():\n",
    "    print(\"Bar\")\n",
    "\n",
    "def pineapples():\n",
    "    apples()\n",
    "    bananas()\n",
    "\n",
    "apples()\n",
    "bananas()\n",
    "apples()\n",
    "pineapples()\n",
    "```\n"
   ]
  },
  {
   "cell_type": "markdown",
   "id": "77c9a268-c92d-4dc1-8b8a-ca1f2b3b84af",
   "metadata": {},
   "source": [
    "In the Markdown cell below, write what the code would output if it were executed and describe how the code would run step by step. Use a  Markdown [code block](https://commonmark.org/help/tutorial/09-code.html) to write the output so the formatting is preserved. If you need a Markdown refresher, check out this [10 minute Markdown tutorial](https://commonmark.org/help/tutorial/index.html)"
   ]
  },
  {
   "cell_type": "markdown",
   "id": "82847cbc-63ef-487f-b783-7f82b70bd0ff",
   "metadata": {},
   "source": []
  },
  {
   "cell_type": "markdown",
   "id": "b81b9173-948d-4c13-99a4-c0d5c6c2ff3a",
   "metadata": {},
   "source": [
    "##  4. String Functions and Comments\n",
    "\n",
    "Take a moment and read through some common string methods you can use with Python from the [W3Schools Website](https://www.w3schools.com/python/python_ref_string.asp) or [offical Python documentation](https://docs.python.org/3/library/stdtypes.html#string-methods). You should try to keep these methods and what they can do in the back of your mind, as they can come in very handy.\n",
    "\n",
    "This programming exercise is very open-ended: write a program that **uses at least three of string methods** to manipulate a textual data. From a computational thinking perspective, this exercise has the following steps.\n",
    "\n",
    "1. Create a variable that contains some string data. This could be some text you write yourself or you could read some text from a file.\n",
    "2. Use three [string methods](https://docs.python.org/3/library/stdtypes.html#string-methods) to manipulate that string variable.\n",
    "3. Print the results of each string manipulation.\n",
    "4. Comment your code!\n",
    "\n",
    "The only thing that is required, besides the string methods, is to **comment your code**. Use the # character at the end of a line of code, and describe what's going on. That's how you'll be graded on this assignment: how well your comments match up with what your code actually does. As a comment at the start of your code you should also provide a sentence or two for how your code is useful and when it might be used.\n",
    "\n",
    "Hint: You can wrap strings of text in three quote marks to create strings with multiple lines. For example:\n",
    "```python\n",
    "big_string = \"\"\"\n",
    "Do I contradict myself?\n",
    "Very well then I contradict myself,\n",
    "(I am large, I contain multitudes.)\n",
    "\"\"\"\n",
    "\n",
    "Have fun!\n"
   ]
  },
  {
   "cell_type": "code",
   "execution_count": null,
   "id": "c28a094f-ea03-428f-88ff-a6e50fa29355",
   "metadata": {},
   "outputs": [],
   "source": [
    "# your program goes here\n",
    "# why is your code useful?\n",
    "\n",
    "# program\n"
   ]
  },
  {
   "cell_type": "code",
   "execution_count": null,
   "id": "afbc034a-dc84-468b-83bd-8156a8ed3680",
   "metadata": {},
   "outputs": [],
   "source": [
    "# Solution\n",
    "\n"
   ]
  },
  {
   "cell_type": "markdown",
   "id": "6401ceda-f2ee-4888-8417-e20096239ae9",
   "metadata": {
    "tags": []
   },
   "source": [
    "## 5. JSON Files\n",
    "\n",
    "\n",
    "You are now working in the admissions office for a Masters degree program and you have been given a JSON formatted data file,`studentsInfo.json`, with information about the applicants to the program. The data file (which has been included alongside this notebook) has the following structure:\n",
    "\n",
    "```json\n",
    "{\n",
    "\t\"students\": [\n",
    "\t\t\n",
    "\t\t{\"name\":\"Austin\", \"email\":\"austin@gmail.com\", \"school\": \"University of Pittsburgh\"},  \n",
    "\t\t{\"name\":\"Bob\", \"email\":\"bob32@gmail.com\", \"school\": \"Penn State University\"},  \n",
    "\t\t{\"name\":\"Wesley\", \"email\":\"wesley@gmail.com\", \"school\": \"Ohio State University\"},\n",
    "\t\t{\"name\":\"Nova\", \"email\":\"nova@gmail.com\", \"school\": \"New York University\"}, \n",
    "\t\t{\"name\":\"Felicity\", \"email\":\"felicity@gmail.com\", \"school\": \"Stanford University\"},\n",
    "\t\t{\"name\":\"Tim\", \"email\":\"tim@gmail.com\", \"school\": \"Stanford University\"},\n",
    "\t\t{\"name\":\"Justin\", \"email\":\"justin@gmail.com\", \"school\": \"University of Pittsburgh\"},\n",
    "\t\t{\"name\":\"William\", \"email\":\"william@gmail.com\", \"school\": \"University of Pittsburgh\"},\n",
    "\t\t{\"name\":\"Harper\", \"email\":\"harper@gmail.com\", \"school\": \"Ohio State University\"},\n",
    "\t\t{\"name\":\"James\", \"email\":\"james@gmail.com\", \"school\": \"New York University\"}, \n",
    "\t\t{\"name\":\"Mason\", \"email\":\"mason@gmail.com\", \"school\": \"Stanford University\"},\n",
    "\t\t{\"name\":\"Ella\", \"email\":\"ella@gmail.com\", \"school\": \"Stanford University\"},\n",
    "\t\t{\"name\":\"Jackson\", \"email\":\"jackson@gmail.com\", \"school\": \"University of Pittsburgh\"} \n",
    "\t]\n",
    "}\n",
    "```\n",
    "\n",
    "Your task is to process this data file with Python to count the number of applicants and then display information about each applicant. For each of the two tasks below, you will need to do the following:\n",
    "1. Load the JSON module\n",
    "2. Open the JSON file `studentsInfo.json` and parse it into a Python dictionary.\n",
    "3. Perform some computation on the data\n",
    "4. Close the file\n"
   ]
  },
  {
   "cell_type": "markdown",
   "id": "10b941a7-c2d2-41fe-8a46-2c9f0d6f62b1",
   "metadata": {
    "tags": []
   },
   "source": [
    "### 5.1 Counting Students\n",
    "\n",
    "Write Python code to calculate the number of students who are listed in the data file and print out the total number."
   ]
  },
  {
   "cell_type": "code",
   "execution_count": null,
   "id": "95ebb2b6-581f-4b80-8430-9f3bdeaf533a",
   "metadata": {},
   "outputs": [],
   "source": [
    "# put your code here\n",
    "\n"
   ]
  },
  {
   "cell_type": "markdown",
   "id": "8df60e10-53b9-4e4e-ad15-47aef03fa200",
   "metadata": {
    "tags": []
   },
   "source": [
    "### 5.2 Displaying Students & School\n",
    "\n",
    "For each student in the data file, print the student name and their corresponding schools. \n",
    "\n",
    "The expected output should look like:\n",
    "\n",
    "```\n",
    "Austin: University of Pittsburgh\n",
    "Bob: Penn State University\n",
    "Wesley: Ohio State University\n",
    "Nova: New York University\n",
    "Felicity: Stanford University\n",
    "Tim: Stanford University\n",
    "Justin: University of Pittsburgh\n",
    "William: University of Pittsburgh\n",
    "Harper: Ohio State University\n",
    "James: New York University\n",
    "Mason: Stanford University\n",
    "Ella: Stanford University\n",
    "Jackson: University of Pittsburgh\n",
    "```"
   ]
  },
  {
   "cell_type": "code",
   "execution_count": null,
   "id": "62ddc9d6-6379-40f9-9f6e-6aff6af66905",
   "metadata": {},
   "outputs": [],
   "source": [
    "# your code here\n"
   ]
  }
 ],
 "metadata": {
  "kernelspec": {
   "display_name": "Python 3 (ipykernel)",
   "language": "python",
   "name": "python3"
  },
  "language_info": {
   "codemirror_mode": {
    "name": "ipython",
    "version": 3
   },
   "file_extension": ".py",
   "mimetype": "text/x-python",
   "name": "python",
   "nbconvert_exporter": "python",
   "pygments_lexer": "ipython3",
   "version": "3.8.8"
  }
 },
 "nbformat": 4,
 "nbformat_minor": 5
}
