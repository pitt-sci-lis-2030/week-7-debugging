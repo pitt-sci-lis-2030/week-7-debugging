{
 "cells": [
  {
   "cell_type": "markdown",
   "metadata": {},
   "source": [
    "# Lecture 7 - Debugging\n",
    "\n",
    "As you have probably realized, the *writing* part of developing software is a relatively small portion of the overall time spent. Most of the time is thinking about the code you want to write and then testing it to see if you get the right output.\n",
    "\n",
    "Developing strong debugging skills is actually *most important* part of becoming a competent programmer.\n",
    "\n",
    "This lecture is going to cover some strategies for debugging when you write code.\n",
    "\n",
    "![grace hopper](https://cdn-blog.adafruit.com/uploads/2017/09/DJS0u97W0AYf8BP.jpg)\n",
    "\n",
    "On September 9th, 1947, Grace Hopper removed a moth from the Harvard Mark II, thereby removing the first ‘bug’ from a computer and giving rise to the terms bug & debugging that are essentially synonymous with programming today. (more [here](https://blog.adafruit.com/2017/09/13/the-first-computer-bug-recently-celebrated-its-70th-birthday/))\n",
    "\n",
    "## Stages of debugging, according to Severance:\n",
    "\n",
    "### Reading\n",
    "Examine your code, read it back to yourself, and check that it says what you meant to say.\n",
    "\n",
    "### Running\n",
    "Experiment by making changes and running different versions. Often if you display the right thing at the right place in the program, the problem becomes obvious, but sometimes you have to spend some time to build scaffolding.\n",
    "\n",
    "### Ruminating\n",
    "Take some time to think! What kind of error is it: syntax, runtime, semantic? What information can you get from the error messages, or from the output of the program? What kind of error could cause the problem you're seeing? What did you change last, before the problem appeared?\n",
    "\n",
    "### Retreating\n",
    "At some point, the best thing to do is back off, undoing recent changes, until you get back to a program that works and that you understand. Then you can start rebuilding.\n"
   ]
  },
  {
   "cell_type": "markdown",
   "metadata": {},
   "source": [
    "## Debugging with Print\n",
    "\n",
    "Code is cheap to run, so don't be afraid to run your code even if it isn't finished! Running your partial code can provide a lot of opportunities to learn about how it is computing your data. One of the most basic ways of experimenting with code is to run the code and put `print` functions along the way to display the internal state of the system.\n",
    "\n",
    "In the code cell below we have a function, `scan()`, that takes two argument. The first argument is a block of text in the form of a Python string that contains a bunch of text you wish to search. The second argument is a word, in the form of a string, you want to search for in the first argument, the block of text. The function will then return an integer number representing the number of times the second argument string appears in the first, that is, how many times does a particular word appear in a block of text.\n",
    "\n",
    "The function below works just fine, but there is a bug that causes it to not always count words properly. Let's run the three code cells below to \n",
    "1. Define the function\n",
    "2. Create a variable containing a block of text\n",
    "3. Execute the "
   ]
  },
  {
   "cell_type": "code",
   "execution_count": null,
   "metadata": {},
   "outputs": [],
   "source": [
    "# define a function that will search a string of text for a given word\n",
    "def scan(longText, givenWord):\n",
    "    count = 0\n",
    "    \n",
    "    # split the text into a list of strings\n",
    "    wordList = longText.split()\n",
    "    \n",
    "    # loop over every word in the wordList\n",
    "    for word in wordList :\n",
    "        # check to see if the current word in the loop is the search word\n",
    "        if givenWord in word :\n",
    "            count = count + 1\n",
    "    \n",
    "    \n",
    "    return count"
   ]
  },
  {
   "cell_type": "code",
   "execution_count": null,
   "metadata": {},
   "outputs": [],
   "source": [
    "# create a variable containing a big block of text about Maya Angelou\n",
    "mayaText = '''\n",
    "Maya Angelou was a civil rights activist, poet and award-winning author known for her acclaimed 1969 memoir, 'I Know Why the Caged Bird Sings,' and her numerous poetry and essay collections.\n",
    "Who Was Maya Angelou?\n",
    "\n",
    "Maya Angelou was an American author, actress, screenwriter, dancer, poet and civil rights activist best known for her 1969 memoir, I Know Why the Caged Bird Sings, which made literary history as the first nonfiction bestseller by an African American woman. Angelou received several honors throughout her career, including two NAACP Image Awards in the outstanding literary work (nonfiction) category, in 2005 and 2009. \n",
    "\n",
    "Early Life\n",
    "\n",
    "Angelou was born on April 4, 1928, in St. Louis, Missouri. Angelou had a difficult childhood. Her parents split up when she was very young, and she and her older brother, Bailey, were sent to live with their father's mother, Anne Henderson, in Stamps, Arkansas.\n",
    "\n",
    "As an African American, Angelou experienced firsthand racial prejudices and discrimination in Arkansas. She also suffered at the hands of a family associate around the age of 7: During a visit with her mother, Angelou was raped by her mother's boyfriend. As vengeance for the sexual assault, Angelou's uncles killed the boyfriend.\n",
    "\n",
    "So traumatized by the experience, Angelou stopped talking. She returned to Arkansas and spent years as a virtual mute.\n",
    "\n",
    "Education\n",
    "\n",
    "During World War II, Angelou moved to San Francisco, California. There she won a scholarship to study dance and acting at the California Labor School.\n",
    "\n",
    "Also during this time, Angelou became the first Black female cable car conductor — a job she held only briefly — in San Francisco.\n",
    "\n",
    "\n",
    "Acting and Singing Career\n",
    "\n",
    "In the mid-1950s, Angelou's career as a performer began to take off. She landed a role in a touring production of Porgy and Bess, later appearing in the off-Broadway production Calypso Heat Wave (1957) and releasing her first album, Miss Calypso (1957).\n",
    "\n",
    "A member of the Harlem Writers Guild and a civil rights activist, Angelou organized and starred in the musical revue Cabaret for Freedom as a benefit for the Southern Christian Leadership Conference, also serving as the SCLC's northern coordinator.\n",
    "\n",
    "\n",
    "In 1961, Angelou appeared in an off-Broadway production of Jean Genet's The Blacks with James Earl Jones, Lou Gossett Jr. and Cicely Tyson.\n",
    "\n",
    "Angelou went on to earn a Tony Award nomination for her role in the play Look Away (1973) and an Emmy Award nomination for her work on the television miniseries Roots (1977), among other honors.\n",
    "'''"
   ]
  },
  {
   "cell_type": "code",
   "execution_count": null,
   "metadata": {},
   "outputs": [],
   "source": [
    "# run the scan function with the full text and count instances of the word \"angelou\"\n",
    "scan(mayaText, \"angelou\")"
   ]
  },
  {
   "cell_type": "markdown",
   "metadata": {},
   "source": [
    "Huh. You'd think a big block of text about Maya Angelou would return a result bigger than \"0\". In the above code we are not getting our intended result, since we know the word is clearly in the text.  What could be going on?\n",
    "\n",
    "To start debugging our code, we should start by working with a smaller, more familiar data set with known values and then add some `print` functions to tell us about the internal state of the function. This is a common pattern when testing and debugging your code. When you add `print` statements, you typically don't want to process the entire data set because you will get way too much output!\n",
    "\n",
    "So in the code cells below we will do the following.\n",
    "1. Create a smaller datasets, a shorter string with known values.\n",
    "2. Rewrite our `scan` function to include `print` out the internal variables as it processes the data.\n",
    "3. Run our new, more expressive function with the smaller data set (i.e. shorter string)."
   ]
  },
  {
   "cell_type": "code",
   "execution_count": null,
   "metadata": {},
   "outputs": [],
   "source": [
    "# create a shorter string of text for testing\n",
    "shortText = \"this is short text to test searching for Angelou\""
   ]
  },
  {
   "cell_type": "code",
   "execution_count": null,
   "metadata": {},
   "outputs": [],
   "source": [
    "# define a new scan function that prints out its progress\n",
    "def scan(longText, givenWord):\n",
    "    count = 0\n",
    "    \n",
    "    # split the text into a list of strings\n",
    "    wordList = longText.split()\n",
    "    \n",
    "    # loop over every word in the wordList\n",
    "    for word in wordList :\n",
    "        \n",
    "        # debug output\n",
    "        print(\"given word: \" + givenWord)\n",
    "        print (\"word: \" + word)\n",
    "        \n",
    "        # check to see if the current word in the loop is the search word\n",
    "        if givenWord in word :\n",
    "            count = count + 1\n",
    "        \n",
    "        # print out how many instances of givenWord we have seen\n",
    "        print(\"current count: \" + str(count))\n",
    "    \n",
    "    return count"
   ]
  },
  {
   "cell_type": "code",
   "execution_count": null,
   "metadata": {},
   "outputs": [],
   "source": [
    "# run out newline defined scan function that will print debug output\n",
    "scan(shortText, \"angelou\")"
   ]
  },
  {
   "cell_type": "markdown",
   "metadata": {},
   "source": [
    "Ah! So if we look at the output for \"given word\" and \"current word\" we can see the issue. Capitalization! What if we want our scan function to ignore capitalization?? Maybe there are some [string methods](https://docs.python.org/3.8/library/stdtypes.html#string-methods) we can use to \"normalize\" the words to make the given word and the words in our long block of text comparable despite the case. I think the `lower()` method might be helpful."
   ]
  },
  {
   "cell_type": "code",
   "execution_count": null,
   "metadata": {},
   "outputs": [],
   "source": [
    "# define a new scan function that cleans up strings and prints out its progress\n",
    "def scan(longText, givenWord):\n",
    "    count = 0\n",
    "    \n",
    "    # split the text into a list of strings\n",
    "    wordList = longText.split()\n",
    "    \n",
    "    # make the search term lowercase\n",
    "    givenWord = givenWord.lower()\n",
    "    \n",
    "    # loop over every word in the wordList\n",
    "    for word in wordList :\n",
    "        \n",
    "        # make the current word lowercase\n",
    "        word = word.lower()\n",
    "        \n",
    "        # debug output\n",
    "        print(\"given word: \" + givenWord)\n",
    "        print (\"word: \" + word)\n",
    "        \n",
    "        # check to see if the current word in the loop is the search word\n",
    "        if givenWord in word :\n",
    "            count = count + 1\n",
    "        \n",
    "        # print out how many instances of givenWord we have seen\n",
    "        print(\"current count: \" + str(count))\n",
    "    \n",
    "    return count"
   ]
  },
  {
   "cell_type": "code",
   "execution_count": null,
   "metadata": {},
   "outputs": [],
   "source": [
    "# run out newline defined scan function that will print debug output\n",
    "scan(shortText, \"angelou\")"
   ]
  },
  {
   "cell_type": "markdown",
   "metadata": {},
   "source": [
    "It works! We saw one instance of the word \"angelou\" in our test string. So now we can use our function on the full Maya Angelo biography text, but first we should disable our debugging otherwise we will junk up the output. So the last step will be redefine our function one final time to comment out the print statements."
   ]
  },
  {
   "cell_type": "code",
   "execution_count": null,
   "metadata": {},
   "outputs": [],
   "source": [
    "# define a new scan function that cleans up strings and prints out its progress\n",
    "def scan(longText, givenWord):\n",
    "    count = 0\n",
    "    \n",
    "    # split the text into a list of strings\n",
    "    wordList = longText.split()\n",
    "    \n",
    "    # make the search term lowercase\n",
    "    givenWord = givenWord.lower()\n",
    "    \n",
    "    # loop over every word in the wordList\n",
    "    for word in wordList :\n",
    "        \n",
    "        # make the current word lowercase\n",
    "        word = word.lower()\n",
    "        \n",
    "        # debug output \n",
    "        #print(\"given word: \" + givenWord)\n",
    "        #print (\"word: \" + word)\n",
    "        \n",
    "        # check to see if the current word in the loop is the search word\n",
    "        if givenWord in word :\n",
    "            count = count + 1\n",
    "        \n",
    "        # print out how many instances of givenWord we have seen\n",
    "        #print(\"current count: \" + str(count))\n",
    "    \n",
    "    return count"
   ]
  },
  {
   "cell_type": "markdown",
   "metadata": {
    "tags": []
   },
   "source": [
    "Ok, now we can go back to our original, big, block of text and run our newly updated `scan` function to count instances of specific words."
   ]
  },
  {
   "cell_type": "code",
   "execution_count": null,
   "metadata": {},
   "outputs": [],
   "source": [
    "# run our new scan function on the full Maya Angelou text\n",
    "scan(mayaText, \"angelou\")"
   ]
  },
  {
   "cell_type": "code",
   "execution_count": null,
   "metadata": {},
   "outputs": [],
   "source": [
    "scan(mayaText, \"the\")"
   ]
  },
  {
   "cell_type": "code",
   "execution_count": null,
   "metadata": {},
   "outputs": [],
   "source": [
    "scan(mayaText, \"rights\")"
   ]
  },
  {
   "cell_type": "markdown",
   "metadata": {},
   "source": [
    "Great! Now we have a functional function!"
   ]
  },
  {
   "cell_type": "markdown",
   "metadata": {},
   "source": [
    "## Exception Handling"
   ]
  },
  {
   "cell_type": "markdown",
   "metadata": {},
   "source": [
    "There is a conditional execution structure built into Python to handle expected and unexpected errors called \"try / except\". The idea of try and except is that you know that some sequence of instruction(s) may have a problem and you want to add some statements to be executed if an error occurs. These extra statements (the except block) are ignored if there is no error. \n",
    "\n",
    "You can think of the try and except feature in Python as an \"insurance policy\" on a sequence of statements. (Severance)"
   ]
  },
  {
   "cell_type": "code",
   "execution_count": null,
   "metadata": {},
   "outputs": [],
   "source": [
    "inp = '32'\n",
    "cel = (inp - 32.0) * 5.0 / 9.0\n",
    "print(cel)"
   ]
  },
  {
   "cell_type": "markdown",
   "metadata": {},
   "source": [
    "In the above code, we get an error because the code is trying to perform math on a variable that we have created as string."
   ]
  },
  {
   "cell_type": "code",
   "execution_count": null,
   "metadata": {},
   "outputs": [],
   "source": [
    "inp = '32'\n",
    "try:\n",
    "    cel = (inp - 32.0) * 5.0 / 9.0\n",
    "    print(cel)\n",
    "except:\n",
    "    print('Input needs to be a variable that is an integer or a float')"
   ]
  },
  {
   "cell_type": "markdown",
   "metadata": {},
   "source": [
    "We can use a try/except block to \"try\" to run the code and if it does work, wr can print an error message as the \"exception.\""
   ]
  },
  {
   "cell_type": "markdown",
   "metadata": {},
   "source": [
    "Sometime we want to run over the error, as above... sometimes we may actually want to generate an error message to inform us/other programmers that the code we wrote is being used incorrectly.  We can do this with an assert keyword:"
   ]
  },
  {
   "cell_type": "code",
   "execution_count": null,
   "metadata": {},
   "outputs": [],
   "source": [
    "inp = '32'\n",
    "assert (type(inp) == float or type(inp) == int), 'The input needs to be a float or an int'\n",
    "cel = (inp - 32.0) * 5.0 / 9.0\n",
    "print(cel)"
   ]
  },
  {
   "cell_type": "code",
   "execution_count": null,
   "metadata": {},
   "outputs": [],
   "source": []
  },
  {
   "cell_type": "code",
   "execution_count": null,
   "metadata": {},
   "outputs": [],
   "source": [
    "inp = '32'\n",
    "if not (type(inp) == float or type(inp) == int) :\n",
    "    raise TypeError(\"The input needs to be a float or an int\")\n",
    "cel = (inp - 32.0) * 5.0 / 9.0\n",
    "print(cel)"
   ]
  },
  {
   "cell_type": "markdown",
   "metadata": {},
   "source": [
    "### Finally....\n",
    "try catch also has a \"finally\".  This is \"on the way out\" code that goes really well with loops.  As in, keep doing something until you get an exception and when you do, that's the end of the program so do something to finish up."
   ]
  },
  {
   "cell_type": "code",
   "execution_count": null,
   "metadata": {},
   "outputs": [],
   "source": [
    "fileHandle = open('files/myFile.txt', mode='r')"
   ]
  },
  {
   "cell_type": "code",
   "execution_count": null,
   "metadata": {},
   "outputs": [],
   "source": [
    "fileHandle.write(\"Using reader mode to write is no beuno\")"
   ]
  },
  {
   "cell_type": "code",
   "execution_count": null,
   "metadata": {},
   "outputs": [],
   "source": [
    "fileHandle = open('files/myFile.txt', mode='r')\n",
    "\n",
    "try :\n",
    "     fileHandle.write(\"Using reader mode to write is no beuno\")   \n",
    "        \n",
    "finally :\n",
    "    fileHandle.close()\n",
    "    print(\"closed the file\")"
   ]
  },
  {
   "cell_type": "code",
   "execution_count": null,
   "metadata": {},
   "outputs": [],
   "source": [
    "fileHandle = open('files/myFile.txt', mode='r')\n",
    "\n",
    "try :\n",
    "     fileHandle.write(\"Using reader mode to write is no beuno\")   \n",
    "\n",
    "except :\n",
    "    print(\"there was a problem with writing to the file\")\n",
    "\n",
    "finally :\n",
    "    fileHandle.close()\n",
    "    print(\"closed the file\")"
   ]
  },
  {
   "cell_type": "markdown",
   "metadata": {},
   "source": [
    "### With (the all powerful)\n",
    "\n",
    "With is a fun way to wrap up the try / finally except:\n"
   ]
  },
  {
   "cell_type": "code",
   "execution_count": null,
   "metadata": {},
   "outputs": [],
   "source": [
    "with open('files/myFile.txt', mode='w') as fileHandleUsingWhile :\n",
    "    fileHandleUsingWhile.write(\"Using reader mode to write is no beuno\") "
   ]
  },
  {
   "cell_type": "code",
   "execution_count": null,
   "metadata": {},
   "outputs": [],
   "source": [
    "for line in fileHandleUsingWhile :\n",
    "    print(line)"
   ]
  },
  {
   "cell_type": "code",
   "execution_count": null,
   "metadata": {},
   "outputs": [],
   "source": []
  }
 ],
 "metadata": {
  "kernelspec": {
   "display_name": "Python 3 (ipykernel)",
   "language": "python",
   "name": "python3"
  },
  "language_info": {
   "codemirror_mode": {
    "name": "ipython",
    "version": 3
   },
   "file_extension": ".py",
   "mimetype": "text/x-python",
   "name": "python",
   "nbconvert_exporter": "python",
   "pygments_lexer": "ipython3",
   "version": "3.8.8"
  }
 },
 "nbformat": 4,
 "nbformat_minor": 4
}
