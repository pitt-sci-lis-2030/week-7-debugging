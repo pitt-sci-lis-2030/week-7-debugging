{
 "cells": [
  {
   "cell_type": "markdown",
   "metadata": {},
   "source": [
    "# Lecture 7 - Debugging\n",
    "\n",
    "As you have probably realized, the *writing* part of developing software is a relatively small portion of the overall time spend.  Most of the time is thinking about the code you want to write and then testing it to see if you get the right output.\n",
    "\n",
    "Developing strong debugging skills is actually *most important* part of becoming a competent programmer.\n",
    "\n",
    "This lecture is going to cover some strategies for debugging when you write code.\n",
    "\n",
    "![grace hopper](https://cdn-blog.adafruit.com/uploads/2017/09/DJS0u97W0AYf8BP.jpg)\n",
    "\n",
    "On September 9th, 1947, Grace Hopper removed a moth from the Harvard Mark II, thereby removing the first ‘bug’ from a computer and giving rise to the terms bug & debugging that are essentially synonymous with programming today. (more [here](https://blog.adafruit.com/2017/09/13/the-first-computer-bug-recently-celebrated-its-70th-birthday/))\n",
    "\n",
    "## Stages of debugging, according to Severance:\n",
    "\n",
    "### reading\n",
    "Examine your code, read it back to yourself, and check that it says what you meant to say.\n",
    "\n",
    "### running\n",
    "Experiment by making changes and running different versions. Often if you display the right thing at the right place in the program, the problem becomes obvious, but sometimes you have to spend some time to build scaffolding.\n",
    "\n",
    "### ruminating\n",
    "Take some time to think! What kind of error is it: syntax, runtime, semantic? What information can you get from the error messages, or from the output of the program? What kind of error could cause the problem you're seeing? What did you change last, before the problem appeared?\n",
    "\n",
    "### retreating\n",
    "At some point, the best thing to do is back off, undoing recent changes, until you get back to a program that works and that you understand. Then you can start rebuilding.\n"
   ]
  },
  {
   "cell_type": "markdown",
   "metadata": {},
   "source": [
    "## The running/experimenting stage\n",
    "\n",
    "The code is cheap to run and provides a lot of opportunties to learn from executing code.  One of the most basic ways of experimenting with code is to run the code and put print statements along the way, outputing interpmediate computational results along the way:"
   ]
  },
  {
   "cell_type": "code",
   "execution_count": 3,
   "metadata": {},
   "outputs": [],
   "source": [
    "mayaText = '''\n",
    "Maya Angelou was a civil rights activist, poet and award-winning author known for her acclaimed 1969 memoir, 'I Know Why the Caged Bird Sings,' and her numerous poetry and essay collections.\n",
    "Who Was Maya Angelou?\n",
    "\n",
    "Maya Angelou was an American author, actress, screenwriter, dancer, poet and civil rights activist best known for her 1969 memoir, I Know Why the Caged Bird Sings, which made literary history as the first nonfiction bestseller by an African American woman. Angelou received several honors throughout her career, including two NAACP Image Awards in the outstanding literary work (nonfiction) category, in 2005 and 2009. \n",
    "\n",
    "Early Life\n",
    "\n",
    "Angelou was born on April 4, 1928, in St. Louis, Missouri. Angelou had a difficult childhood. Her parents split up when she was very young, and she and her older brother, Bailey, were sent to live with their father's mother, Anne Henderson, in Stamps, Arkansas.\n",
    "\n",
    "As an African American, Angelou experienced firsthand racial prejudices and discrimination in Arkansas. She also suffered at the hands of a family associate around the age of 7: During a visit with her mother, Angelou was raped by her mother's boyfriend. As vengeance for the sexual assault, Angelou's uncles killed the boyfriend.\n",
    "\n",
    "So traumatized by the experience, Angelou stopped talking. She returned to Arkansas and spent years as a virtual mute.\n",
    "\n",
    "Education\n",
    "\n",
    "During World War II, Angelou moved to San Francisco, California. There she won a scholarship to study dance and acting at the California Labor School.\n",
    "\n",
    "Also during this time, Angelou became the first Black female cable car conductor — a job she held only briefly — in San Francisco.\n",
    "\n",
    "\n",
    "Acting and Singing Career\n",
    "\n",
    "In the mid-1950s, Angelou's career as a performer began to take off. She landed a role in a touring production of Porgy and Bess, later appearing in the off-Broadway production Calypso Heat Wave (1957) and releasing her first album, Miss Calypso (1957).\n",
    "\n",
    "A member of the Harlem Writers Guild and a civil rights activist, Angelou organized and starred in the musical revue Cabaret for Freedom as a benefit for the Southern Christian Leadership Conference, also serving as the SCLC's northern coordinator.\n",
    "\n",
    "\n",
    "In 1961, Angelou appeared in an off-Broadway production of Jean Genet's The Blacks with James Earl Jones, Lou Gossett Jr. and Cicely Tyson.\n",
    "\n",
    "Angelou went on to earn a Tony Award nomination for her role in the play Look Away (1973) and an Emmy Award nomination for her work on the television miniseries Roots (1977), among other honors.\n",
    "'''"
   ]
  },
  {
   "cell_type": "code",
   "execution_count": 4,
   "metadata": {},
   "outputs": [
    {
     "data": {
      "text/plain": [
       "0"
      ]
     },
     "execution_count": 4,
     "metadata": {},
     "output_type": "execute_result"
    }
   ],
   "source": [
    "def scan(longText, givenWord):\n",
    "    count = 0\n",
    "    \n",
    "    for word in longText.split() :\n",
    "        if givenWord in word :\n",
    "            count = count + 1\n",
    "    \n",
    "    \n",
    "    return count\n",
    "\n",
    "scan(mayaText, \"angelou\")"
   ]
  },
  {
   "cell_type": "markdown",
   "metadata": {},
   "source": [
    "In the above code we are not getting our intended result, since we know the word angelou is clearly in the text.  What could be going on?  We can make the problem smaller and step through the code using print statements to test our logic:"
   ]
  },
  {
   "cell_type": "code",
   "execution_count": 11,
   "metadata": {},
   "outputs": [
    {
     "name": "stdout",
     "output_type": "stream",
     "text": [
      "given word: angelou\n",
      "word: this\n",
      "current count: 0\n",
      "given word: angelou\n",
      "word: is\n",
      "current count: 0\n",
      "given word: angelou\n",
      "word: short\n",
      "current count: 0\n",
      "given word: angelou\n",
      "word: text\n",
      "current count: 0\n",
      "given word: angelou\n",
      "word: to\n",
      "current count: 0\n",
      "given word: angelou\n",
      "word: test\n",
      "current count: 0\n",
      "given word: angelou\n",
      "word: searching\n",
      "current count: 0\n",
      "given word: angelou\n",
      "word: for\n",
      "current count: 0\n",
      "given word: angelou\n",
      "word: Angelou\n",
      "current count: 0\n"
     ]
    },
    {
     "data": {
      "text/plain": [
       "0"
      ]
     },
     "execution_count": 11,
     "metadata": {},
     "output_type": "execute_result"
    }
   ],
   "source": [
    "shortText = \"this is short text to test searching for Angelou\"\n",
    "\n",
    "def scan(longText, givenWord):\n",
    "    count = 0\n",
    "    \n",
    "    for word in longText.split() :\n",
    "        \n",
    "        print(\"given word: \" + givenWord)\n",
    "        print (\"word: \" + word)\n",
    "        if givenWord in word :\n",
    "            count = count + 1\n",
    "        \n",
    "        print(\"current count: \" + str(count))\n",
    "    \n",
    "    \n",
    "    return count\n",
    "\n",
    "scan(shortText, \"angelou\")"
   ]
  },
  {
   "cell_type": "markdown",
   "metadata": {},
   "source": [
    "Ah!  What about capitalization?  What if we don't care about capitalization??  Are there string methods to help us?"
   ]
  },
  {
   "cell_type": "code",
   "execution_count": 14,
   "metadata": {},
   "outputs": [
    {
     "name": "stdout",
     "output_type": "stream",
     "text": [
      "given word: angelou\n",
      "word: this\n",
      "current count: 0\n",
      "given word: angelou\n",
      "word: is\n",
      "current count: 0\n",
      "given word: angelou\n",
      "word: short\n",
      "current count: 0\n",
      "given word: angelou\n",
      "word: text\n",
      "current count: 0\n",
      "given word: angelou\n",
      "word: to\n",
      "current count: 0\n",
      "given word: angelou\n",
      "word: test\n",
      "current count: 0\n",
      "given word: angelou\n",
      "word: searching\n",
      "current count: 0\n",
      "given word: angelou\n",
      "word: for\n",
      "current count: 0\n",
      "given word: angelou\n",
      "word: angelou\n",
      "current count: 1\n"
     ]
    },
    {
     "data": {
      "text/plain": [
       "1"
      ]
     },
     "execution_count": 14,
     "metadata": {},
     "output_type": "execute_result"
    }
   ],
   "source": [
    "shortText = \"this is short text to test searching for Angelou\"\n",
    "\n",
    "def scan(longText, givenWord):\n",
    "    count = 0\n",
    "    \n",
    "    givenWord = givenWord.lower()\n",
    "    \n",
    "    for word in longText.split() :\n",
    "        \n",
    "        word = word.lower()\n",
    "        \n",
    "        print(\"given word: \" + givenWord)\n",
    "        print (\"word: \" + word)\n",
    "        if givenWord in word :\n",
    "            count = count + 1\n",
    "        \n",
    "        print(\"current count: \" + str(count))\n",
    "    \n",
    "    \n",
    "    return count\n",
    "\n",
    "scan(shortText, \"angelou\")"
   ]
  },
  {
   "cell_type": "code",
   "execution_count": 15,
   "metadata": {},
   "outputs": [
    {
     "data": {
      "text/plain": [
       "1"
      ]
     },
     "execution_count": 15,
     "metadata": {},
     "output_type": "execute_result"
    }
   ],
   "source": [
    "def scan(longText, givenWord):\n",
    "    count = 0\n",
    "    \n",
    "    givenWord = givenWord.lower()\n",
    "    \n",
    "    for word in longText.split() :\n",
    "        \n",
    "        word = word.lower()\n",
    "        \n",
    "        #print(\"given word: \" + givenWord)\n",
    "        #print (\"word: \" + word)\n",
    "        if givenWord in word :\n",
    "            count = count + 1\n",
    "        \n",
    "        #print(\"current count: \" + str(count))\n",
    "    \n",
    "    \n",
    "    return count\n",
    "\n",
    "scan(shortText, \"angelou\")"
   ]
  },
  {
   "cell_type": "code",
   "execution_count": 16,
   "metadata": {},
   "outputs": [
    {
     "data": {
      "text/plain": [
       "16"
      ]
     },
     "execution_count": 16,
     "metadata": {},
     "output_type": "execute_result"
    }
   ],
   "source": [
    "scan(mayaText, \"angelou\")"
   ]
  },
  {
   "cell_type": "markdown",
   "metadata": {},
   "source": [
    "## Building checks as we write code"
   ]
  },
  {
   "cell_type": "markdown",
   "metadata": {},
   "source": [
    "There is a conditional execution structure built into Python to handle expected and unexpected errors called \"try / except\". The idea of try and except is that you know that some sequence of instruction(s) may have a problem and you want to add some statements to be executed if an error occurs. These extra statements (the except block) are ignored if there is no error. \n",
    "\n",
    "You can think of the try and except feature in Python as an \"insurance policy\" on a sequence of statements. (Severance)"
   ]
  },
  {
   "cell_type": "code",
   "execution_count": 3,
   "metadata": {},
   "outputs": [
    {
     "ename": "TypeError",
     "evalue": "unsupported operand type(s) for -: 'str' and 'float'",
     "output_type": "error",
     "traceback": [
      "\u001b[0;31m---------------------------------------------------------------------------\u001b[0m",
      "\u001b[0;31mTypeError\u001b[0m                                 Traceback (most recent call last)",
      "\u001b[0;32m<ipython-input-3-04d7d0bda5b1>\u001b[0m in \u001b[0;36m<module>\u001b[0;34m\u001b[0m\n\u001b[1;32m      1\u001b[0m \u001b[0minp\u001b[0m \u001b[0;34m=\u001b[0m \u001b[0;34m'32'\u001b[0m\u001b[0;34m\u001b[0m\u001b[0;34m\u001b[0m\u001b[0m\n\u001b[0;32m----> 2\u001b[0;31m \u001b[0mcel\u001b[0m \u001b[0;34m=\u001b[0m \u001b[0;34m(\u001b[0m\u001b[0minp\u001b[0m \u001b[0;34m-\u001b[0m \u001b[0;36m32.0\u001b[0m\u001b[0;34m)\u001b[0m \u001b[0;34m*\u001b[0m \u001b[0;36m5.0\u001b[0m \u001b[0;34m/\u001b[0m \u001b[0;36m9.0\u001b[0m\u001b[0;34m\u001b[0m\u001b[0;34m\u001b[0m\u001b[0m\n\u001b[0m\u001b[1;32m      3\u001b[0m \u001b[0mprint\u001b[0m\u001b[0;34m(\u001b[0m\u001b[0mcel\u001b[0m\u001b[0;34m)\u001b[0m\u001b[0;34m\u001b[0m\u001b[0;34m\u001b[0m\u001b[0m\n",
      "\u001b[0;31mTypeError\u001b[0m: unsupported operand type(s) for -: 'str' and 'float'"
     ]
    }
   ],
   "source": [
    "inp = '32'\n",
    "cel = (inp - 32.0) * 5.0 / 9.0\n",
    "print(cel)"
   ]
  },
  {
   "cell_type": "markdown",
   "metadata": {},
   "source": [
    "In the above code, we get an error because the code is trying to perform math on a variable that we have created as string."
   ]
  },
  {
   "cell_type": "code",
   "execution_count": 4,
   "metadata": {},
   "outputs": [
    {
     "name": "stdout",
     "output_type": "stream",
     "text": [
      "Input needs to be a variable that is an integer or a float\n"
     ]
    }
   ],
   "source": [
    "inp = '32'\n",
    "try:\n",
    "    cel = (inp - 32.0) * 5.0 / 9.0\n",
    "    print(cel)\n",
    "except:\n",
    "    print('Input needs to be a variable that is an integer or a float')"
   ]
  },
  {
   "cell_type": "markdown",
   "metadata": {},
   "source": [
    "We can use a try/except block to \"try\" to run the code and if it does work, wr can print an error message as the \"exception.\""
   ]
  },
  {
   "cell_type": "markdown",
   "metadata": {},
   "source": [
    "Sometime we want to run over the error, as above... sometimes we may actually want to generate an error message to inform us/other programmers that the code we wrote is being used incorrectly.  We can do this with an assert keyword:"
   ]
  },
  {
   "cell_type": "code",
   "execution_count": 12,
   "metadata": {},
   "outputs": [
    {
     "ename": "AssertionError",
     "evalue": "The input needs to be a float or an int",
     "output_type": "error",
     "traceback": [
      "\u001b[0;31m---------------------------------------------------------------------------\u001b[0m",
      "\u001b[0;31mAssertionError\u001b[0m                            Traceback (most recent call last)",
      "\u001b[0;32m<ipython-input-12-2dfc91f989c1>\u001b[0m in \u001b[0;36m<module>\u001b[0;34m\u001b[0m\n\u001b[1;32m      1\u001b[0m \u001b[0minp\u001b[0m \u001b[0;34m=\u001b[0m \u001b[0;34m'32'\u001b[0m\u001b[0;34m\u001b[0m\u001b[0;34m\u001b[0m\u001b[0m\n\u001b[0;32m----> 2\u001b[0;31m \u001b[0;32massert\u001b[0m \u001b[0;34m(\u001b[0m\u001b[0mtype\u001b[0m\u001b[0;34m(\u001b[0m\u001b[0minp\u001b[0m\u001b[0;34m)\u001b[0m \u001b[0;34m==\u001b[0m \u001b[0mfloat\u001b[0m \u001b[0;32mor\u001b[0m \u001b[0mtype\u001b[0m\u001b[0;34m(\u001b[0m\u001b[0minp\u001b[0m\u001b[0;34m)\u001b[0m \u001b[0;34m==\u001b[0m \u001b[0mint\u001b[0m\u001b[0;34m)\u001b[0m\u001b[0;34m,\u001b[0m \u001b[0;34m'The input needs to be a float or an int'\u001b[0m\u001b[0;34m\u001b[0m\u001b[0;34m\u001b[0m\u001b[0m\n\u001b[0m\u001b[1;32m      3\u001b[0m \u001b[0mcel\u001b[0m \u001b[0;34m=\u001b[0m \u001b[0;34m(\u001b[0m\u001b[0minp\u001b[0m \u001b[0;34m-\u001b[0m \u001b[0;36m32.0\u001b[0m\u001b[0;34m)\u001b[0m \u001b[0;34m*\u001b[0m \u001b[0;36m5.0\u001b[0m \u001b[0;34m/\u001b[0m \u001b[0;36m9.0\u001b[0m\u001b[0;34m\u001b[0m\u001b[0;34m\u001b[0m\u001b[0m\n\u001b[1;32m      4\u001b[0m \u001b[0mprint\u001b[0m\u001b[0;34m(\u001b[0m\u001b[0mcel\u001b[0m\u001b[0;34m)\u001b[0m\u001b[0;34m\u001b[0m\u001b[0;34m\u001b[0m\u001b[0m\n",
      "\u001b[0;31mAssertionError\u001b[0m: The input needs to be a float or an int"
     ]
    }
   ],
   "source": [
    "inp = '32'\n",
    "assert (type(inp) == float or type(inp) == int), 'The input needs to be a float or an int'\n",
    "cel = (inp - 32.0) * 5.0 / 9.0\n",
    "print(cel)"
   ]
  },
  {
   "cell_type": "code",
   "execution_count": null,
   "metadata": {},
   "outputs": [],
   "source": []
  },
  {
   "cell_type": "code",
   "execution_count": 16,
   "metadata": {},
   "outputs": [
    {
     "ename": "TypeError",
     "evalue": "The input needs to be a float or an int",
     "output_type": "error",
     "traceback": [
      "\u001b[0;31m---------------------------------------------------------------------------\u001b[0m",
      "\u001b[0;31mTypeError\u001b[0m                                 Traceback (most recent call last)",
      "\u001b[0;32m<ipython-input-16-0b217c3f7078>\u001b[0m in \u001b[0;36m<module>\u001b[0;34m\u001b[0m\n\u001b[1;32m      1\u001b[0m \u001b[0minp\u001b[0m \u001b[0;34m=\u001b[0m \u001b[0;34m'32'\u001b[0m\u001b[0;34m\u001b[0m\u001b[0;34m\u001b[0m\u001b[0m\n\u001b[1;32m      2\u001b[0m \u001b[0;32mif\u001b[0m \u001b[0;32mnot\u001b[0m \u001b[0;34m(\u001b[0m\u001b[0mtype\u001b[0m\u001b[0;34m(\u001b[0m\u001b[0minp\u001b[0m\u001b[0;34m)\u001b[0m \u001b[0;34m==\u001b[0m \u001b[0mfloat\u001b[0m \u001b[0;32mor\u001b[0m \u001b[0mtype\u001b[0m\u001b[0;34m(\u001b[0m\u001b[0minp\u001b[0m\u001b[0;34m)\u001b[0m \u001b[0;34m==\u001b[0m \u001b[0mint\u001b[0m\u001b[0;34m)\u001b[0m \u001b[0;34m:\u001b[0m\u001b[0;34m\u001b[0m\u001b[0;34m\u001b[0m\u001b[0m\n\u001b[0;32m----> 3\u001b[0;31m     \u001b[0;32mraise\u001b[0m \u001b[0mTypeError\u001b[0m\u001b[0;34m(\u001b[0m\u001b[0;34m\"The input needs to be a float or an int\"\u001b[0m\u001b[0;34m)\u001b[0m\u001b[0;34m\u001b[0m\u001b[0;34m\u001b[0m\u001b[0m\n\u001b[0m\u001b[1;32m      4\u001b[0m \u001b[0mcel\u001b[0m \u001b[0;34m=\u001b[0m \u001b[0;34m(\u001b[0m\u001b[0minp\u001b[0m \u001b[0;34m-\u001b[0m \u001b[0;36m32.0\u001b[0m\u001b[0;34m)\u001b[0m \u001b[0;34m*\u001b[0m \u001b[0;36m5.0\u001b[0m \u001b[0;34m/\u001b[0m \u001b[0;36m9.0\u001b[0m\u001b[0;34m\u001b[0m\u001b[0;34m\u001b[0m\u001b[0m\n\u001b[1;32m      5\u001b[0m \u001b[0mprint\u001b[0m\u001b[0;34m(\u001b[0m\u001b[0mcel\u001b[0m\u001b[0;34m)\u001b[0m\u001b[0;34m\u001b[0m\u001b[0;34m\u001b[0m\u001b[0m\n",
      "\u001b[0;31mTypeError\u001b[0m: The input needs to be a float or an int"
     ]
    }
   ],
   "source": [
    "inp = '32'\n",
    "if not (type(inp) == float or type(inp) == int) :\n",
    "    raise TypeError(\"The input needs to be a float or an int\")\n",
    "cel = (inp - 32.0) * 5.0 / 9.0\n",
    "print(cel)"
   ]
  },
  {
   "cell_type": "markdown",
   "metadata": {},
   "source": [
    "## Finally....\n",
    "try catch also has a \"finally\".  This is \"on the way out\" code that goes really well with loops.  As in, keep doing something until you get an exception and when you do, that's the end of the program so do something to finish up."
   ]
  },
  {
   "cell_type": "code",
   "execution_count": 45,
   "metadata": {},
   "outputs": [],
   "source": [
    "fileHandle = open('files/myFile.txt', mode='r')"
   ]
  },
  {
   "cell_type": "code",
   "execution_count": 47,
   "metadata": {},
   "outputs": [
    {
     "ename": "UnsupportedOperation",
     "evalue": "not writable",
     "output_type": "error",
     "traceback": [
      "\u001b[0;31m---------------------------------------------------------------------------\u001b[0m",
      "\u001b[0;31mUnsupportedOperation\u001b[0m                      Traceback (most recent call last)",
      "\u001b[0;32m<ipython-input-47-8bf3f9185454>\u001b[0m in \u001b[0;36m<module>\u001b[0;34m\u001b[0m\n\u001b[0;32m----> 1\u001b[0;31m \u001b[0mfileHandle\u001b[0m\u001b[0;34m.\u001b[0m\u001b[0mwrite\u001b[0m\u001b[0;34m(\u001b[0m\u001b[0;34m\"Using reader mode to write is no beuno\"\u001b[0m\u001b[0;34m)\u001b[0m\u001b[0;34m\u001b[0m\u001b[0;34m\u001b[0m\u001b[0m\n\u001b[0m\u001b[1;32m      2\u001b[0m \u001b[0;34m\u001b[0m\u001b[0m\n\u001b[1;32m      3\u001b[0m \u001b[0mprint\u001b[0m\u001b[0;34m(\u001b[0m\u001b[0mnumberOfLines\u001b[0m\u001b[0;34m)\u001b[0m\u001b[0;34m\u001b[0m\u001b[0;34m\u001b[0m\u001b[0m\n",
      "\u001b[0;31mUnsupportedOperation\u001b[0m: not writable"
     ]
    }
   ],
   "source": [
    "fileHandle.write(\"Using reader mode to write is no beuno\")"
   ]
  },
  {
   "cell_type": "code",
   "execution_count": 50,
   "metadata": {},
   "outputs": [
    {
     "name": "stdout",
     "output_type": "stream",
     "text": [
      "closed the file\n"
     ]
    },
    {
     "ename": "UnsupportedOperation",
     "evalue": "not writable",
     "output_type": "error",
     "traceback": [
      "\u001b[0;31m---------------------------------------------------------------------------\u001b[0m",
      "\u001b[0;31mUnsupportedOperation\u001b[0m                      Traceback (most recent call last)",
      "\u001b[0;32m<ipython-input-50-043b275489e5>\u001b[0m in \u001b[0;36m<module>\u001b[0;34m\u001b[0m\n\u001b[1;32m      2\u001b[0m \u001b[0;34m\u001b[0m\u001b[0m\n\u001b[1;32m      3\u001b[0m \u001b[0;32mtry\u001b[0m \u001b[0;34m:\u001b[0m\u001b[0;34m\u001b[0m\u001b[0;34m\u001b[0m\u001b[0m\n\u001b[0;32m----> 4\u001b[0;31m      \u001b[0mfileHandle\u001b[0m\u001b[0;34m.\u001b[0m\u001b[0mwrite\u001b[0m\u001b[0;34m(\u001b[0m\u001b[0;34m\"Using reader mode to write is no beuno\"\u001b[0m\u001b[0;34m)\u001b[0m\u001b[0;34m\u001b[0m\u001b[0;34m\u001b[0m\u001b[0m\n\u001b[0m\u001b[1;32m      5\u001b[0m \u001b[0;34m\u001b[0m\u001b[0m\n\u001b[1;32m      6\u001b[0m \u001b[0;32mfinally\u001b[0m \u001b[0;34m:\u001b[0m\u001b[0;34m\u001b[0m\u001b[0;34m\u001b[0m\u001b[0m\n",
      "\u001b[0;31mUnsupportedOperation\u001b[0m: not writable"
     ]
    }
   ],
   "source": [
    "fileHandle = open('files/myFile.txt', mode='r')\n",
    "\n",
    "try :\n",
    "     fileHandle.write(\"Using reader mode to write is no beuno\")   \n",
    "        \n",
    "finally :\n",
    "    fileHandle.close()\n",
    "    print(\"closed the file\")"
   ]
  },
  {
   "cell_type": "code",
   "execution_count": 51,
   "metadata": {},
   "outputs": [
    {
     "name": "stdout",
     "output_type": "stream",
     "text": [
      "there was a problem with writing to the file\n",
      "closed the file\n"
     ]
    }
   ],
   "source": [
    "fileHandle = open('files/myFile.txt', mode='r')\n",
    "\n",
    "try :\n",
    "     fileHandle.write(\"Using reader mode to write is no beuno\")   \n",
    "\n",
    "except :\n",
    "    print(\"there was a problem with writing to the file\")\n",
    "\n",
    "finally :\n",
    "    fileHandle.close()\n",
    "    print(\"closed the file\")"
   ]
  },
  {
   "cell_type": "markdown",
   "metadata": {},
   "source": [
    "## With (the all powerful)\n",
    "\n",
    "With is a fun way to wrap up the try / finally except:\n"
   ]
  },
  {
   "cell_type": "code",
   "execution_count": 55,
   "metadata": {},
   "outputs": [],
   "source": [
    "with open('files/myFile.txt', mode='w') as fileHandleUsingWhile :\n",
    "    fileHandleUsingWhile.write(\"Using reader mode to write is no beuno\") "
   ]
  },
  {
   "cell_type": "code",
   "execution_count": 56,
   "metadata": {},
   "outputs": [
    {
     "ename": "ValueError",
     "evalue": "I/O operation on closed file.",
     "output_type": "error",
     "traceback": [
      "\u001b[0;31m---------------------------------------------------------------------------\u001b[0m",
      "\u001b[0;31mValueError\u001b[0m                                Traceback (most recent call last)",
      "\u001b[0;32m<ipython-input-56-2271025e565e>\u001b[0m in \u001b[0;36m<module>\u001b[0;34m\u001b[0m\n\u001b[0;32m----> 1\u001b[0;31m \u001b[0;32mfor\u001b[0m \u001b[0mline\u001b[0m \u001b[0;32min\u001b[0m \u001b[0mfileHandleUsingWhile\u001b[0m \u001b[0;34m:\u001b[0m\u001b[0;34m\u001b[0m\u001b[0;34m\u001b[0m\u001b[0m\n\u001b[0m\u001b[1;32m      2\u001b[0m     \u001b[0mprint\u001b[0m\u001b[0;34m(\u001b[0m\u001b[0mline\u001b[0m\u001b[0;34m)\u001b[0m\u001b[0;34m\u001b[0m\u001b[0;34m\u001b[0m\u001b[0m\n",
      "\u001b[0;31mValueError\u001b[0m: I/O operation on closed file."
     ]
    }
   ],
   "source": [
    "for line in fileHandleUsingWhile :\n",
    "    print(line)"
   ]
  },
  {
   "cell_type": "code",
   "execution_count": null,
   "metadata": {},
   "outputs": [],
   "source": []
  }
 ],
 "metadata": {
  "kernelspec": {
   "display_name": "Python 3",
   "language": "python",
   "name": "python3"
  },
  "language_info": {
   "codemirror_mode": {
    "name": "ipython",
    "version": 3
   },
   "file_extension": ".py",
   "mimetype": "text/x-python",
   "name": "python",
   "nbconvert_exporter": "python",
   "pygments_lexer": "ipython3",
   "version": "3.8.3"
  }
 },
 "nbformat": 4,
 "nbformat_minor": 4
}
